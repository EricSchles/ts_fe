{
 "cells": [
  {
   "cell_type": "code",
   "execution_count": 1,
   "metadata": {},
   "outputs": [],
   "source": [
    "import pandas as pd\n",
    "import numpy as np\n",
    "from ts_fe import timeseries_processing\n",
    "\n",
    "df = pd.DataFrame()\n",
    "\n",
    "lags = pd.DataFrame()\n",
    "df[\"A\"] = np.random.normal(0, 1, size=100)\n",
    "df[\"B\"] = np.random.normal(0, 5, size=100)\n",
    "df[\"C\"] = np.random.normal(0, 10, size=100)"
   ]
  },
  {
   "cell_type": "code",
   "execution_count": 3,
   "metadata": {},
   "outputs": [],
   "source": [
    "tsp = timeseries_processing.TimeSeriesProcessing()\n",
    "new_df = tsp.lag_column(df, 5, \"C\")"
   ]
  },
  {
   "cell_type": "code",
   "execution_count": 4,
   "metadata": {},
   "outputs": [
    {
     "data": {
      "text/html": [
       "<div>\n",
       "<style scoped>\n",
       "    .dataframe tbody tr th:only-of-type {\n",
       "        vertical-align: middle;\n",
       "    }\n",
       "\n",
       "    .dataframe tbody tr th {\n",
       "        vertical-align: top;\n",
       "    }\n",
       "\n",
       "    .dataframe thead th {\n",
       "        text-align: right;\n",
       "    }\n",
       "</style>\n",
       "<table border=\"1\" class=\"dataframe\">\n",
       "  <thead>\n",
       "    <tr style=\"text-align: right;\">\n",
       "      <th></th>\n",
       "      <th>A</th>\n",
       "      <th>B</th>\n",
       "      <th>C</th>\n",
       "      <th>Clagged_1</th>\n",
       "      <th>Clagged_2</th>\n",
       "      <th>Clagged_3</th>\n",
       "      <th>Clagged_4</th>\n",
       "    </tr>\n",
       "  </thead>\n",
       "  <tbody>\n",
       "    <tr>\n",
       "      <th>4</th>\n",
       "      <td>NaN</td>\n",
       "      <td>NaN</td>\n",
       "      <td>NaN</td>\n",
       "      <td>5.079874</td>\n",
       "      <td>-0.219595</td>\n",
       "      <td>-14.573905</td>\n",
       "      <td>3.486721</td>\n",
       "    </tr>\n",
       "    <tr>\n",
       "      <th>5</th>\n",
       "      <td>0.875081</td>\n",
       "      <td>-7.217906</td>\n",
       "      <td>10.214354</td>\n",
       "      <td>8.242721</td>\n",
       "      <td>5.079874</td>\n",
       "      <td>-0.219595</td>\n",
       "      <td>-14.573905</td>\n",
       "    </tr>\n",
       "    <tr>\n",
       "      <th>6</th>\n",
       "      <td>0.869251</td>\n",
       "      <td>6.006200</td>\n",
       "      <td>-3.787911</td>\n",
       "      <td>10.214354</td>\n",
       "      <td>8.242721</td>\n",
       "      <td>5.079874</td>\n",
       "      <td>-0.219595</td>\n",
       "    </tr>\n",
       "    <tr>\n",
       "      <th>7</th>\n",
       "      <td>-0.323897</td>\n",
       "      <td>7.698661</td>\n",
       "      <td>-0.260655</td>\n",
       "      <td>-3.787911</td>\n",
       "      <td>10.214354</td>\n",
       "      <td>8.242721</td>\n",
       "      <td>5.079874</td>\n",
       "    </tr>\n",
       "    <tr>\n",
       "      <th>8</th>\n",
       "      <td>-0.966310</td>\n",
       "      <td>-0.854880</td>\n",
       "      <td>1.313883</td>\n",
       "      <td>-0.260655</td>\n",
       "      <td>-3.787911</td>\n",
       "      <td>10.214354</td>\n",
       "      <td>8.242721</td>\n",
       "    </tr>\n",
       "  </tbody>\n",
       "</table>\n",
       "</div>"
      ],
      "text/plain": [
       "          A         B          C  Clagged_1  Clagged_2  Clagged_3  Clagged_4\n",
       "4       NaN       NaN        NaN   5.079874  -0.219595 -14.573905   3.486721\n",
       "5  0.875081 -7.217906  10.214354   8.242721   5.079874  -0.219595 -14.573905\n",
       "6  0.869251  6.006200  -3.787911  10.214354   8.242721   5.079874  -0.219595\n",
       "7 -0.323897  7.698661  -0.260655  -3.787911  10.214354   8.242721   5.079874\n",
       "8 -0.966310 -0.854880   1.313883  -0.260655  -3.787911  10.214354   8.242721"
      ]
     },
     "execution_count": 4,
     "metadata": {},
     "output_type": "execute_result"
    }
   ],
   "source": [
    "new_df.head()"
   ]
  },
  {
   "cell_type": "code",
   "execution_count": null,
   "metadata": {},
   "outputs": [],
   "source": []
  }
 ],
 "metadata": {
  "kernelspec": {
   "display_name": "Python 3",
   "language": "python",
   "name": "python3"
  },
  "language_info": {
   "codemirror_mode": {
    "name": "ipython",
    "version": 3
   },
   "file_extension": ".py",
   "mimetype": "text/x-python",
   "name": "python",
   "nbconvert_exporter": "python",
   "pygments_lexer": "ipython3",
   "version": "3.9.5"
  }
 },
 "nbformat": 4,
 "nbformat_minor": 2
}
