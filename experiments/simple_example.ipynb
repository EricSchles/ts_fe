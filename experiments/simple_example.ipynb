{
 "cells": [
  {
   "cell_type": "code",
   "execution_count": 1,
   "metadata": {},
   "outputs": [],
   "source": [
    "import pandas as pd\n",
    "import numpy as np\n",
    "from ts_fe import timeseries_processing as tsp\n",
    "\n",
    "df = pd.DataFrame()\n",
    "\n",
    "lags = pd.DataFrame()\n",
    "df[\"A\"] = np.random.normal(0, 1, size=100)\n",
    "df[\"B\"] = np.random.normal(0, 5, size=100)\n",
    "df[\"C\"] = np.random.normal(0, 10, size=100)"
   ]
  },
  {
   "cell_type": "code",
   "execution_count": 2,
   "metadata": {},
   "outputs": [],
   "source": [
    "new_df = tsp.lag_column(df, 5, \"C\")"
   ]
  },
  {
   "cell_type": "code",
   "execution_count": 3,
   "metadata": {},
   "outputs": [
    {
     "data": {
      "text/html": [
       "<div>\n",
       "<style scoped>\n",
       "    .dataframe tbody tr th:only-of-type {\n",
       "        vertical-align: middle;\n",
       "    }\n",
       "\n",
       "    .dataframe tbody tr th {\n",
       "        vertical-align: top;\n",
       "    }\n",
       "\n",
       "    .dataframe thead th {\n",
       "        text-align: right;\n",
       "    }\n",
       "</style>\n",
       "<table border=\"1\" class=\"dataframe\">\n",
       "  <thead>\n",
       "    <tr style=\"text-align: right;\">\n",
       "      <th></th>\n",
       "      <th>A</th>\n",
       "      <th>B</th>\n",
       "      <th>C</th>\n",
       "      <th>C_lagged_1</th>\n",
       "      <th>C_lagged_2</th>\n",
       "      <th>C_lagged_3</th>\n",
       "      <th>C_lagged_4</th>\n",
       "      <th>C_lagged_5</th>\n",
       "    </tr>\n",
       "  </thead>\n",
       "  <tbody>\n",
       "    <tr>\n",
       "      <th>5</th>\n",
       "      <td>1.328873</td>\n",
       "      <td>-0.699893</td>\n",
       "      <td>-0.167786</td>\n",
       "      <td>10.638629</td>\n",
       "      <td>-3.670868</td>\n",
       "      <td>-5.114581</td>\n",
       "      <td>2.180143</td>\n",
       "      <td>6.097732</td>\n",
       "    </tr>\n",
       "    <tr>\n",
       "      <th>6</th>\n",
       "      <td>-0.492661</td>\n",
       "      <td>-1.550131</td>\n",
       "      <td>0.361197</td>\n",
       "      <td>-0.167786</td>\n",
       "      <td>10.638629</td>\n",
       "      <td>-3.670868</td>\n",
       "      <td>-5.114581</td>\n",
       "      <td>2.180143</td>\n",
       "    </tr>\n",
       "    <tr>\n",
       "      <th>7</th>\n",
       "      <td>-0.761052</td>\n",
       "      <td>-3.156621</td>\n",
       "      <td>-10.811514</td>\n",
       "      <td>0.361197</td>\n",
       "      <td>-0.167786</td>\n",
       "      <td>10.638629</td>\n",
       "      <td>-3.670868</td>\n",
       "      <td>-5.114581</td>\n",
       "    </tr>\n",
       "    <tr>\n",
       "      <th>8</th>\n",
       "      <td>0.256666</td>\n",
       "      <td>-7.127921</td>\n",
       "      <td>-4.292000</td>\n",
       "      <td>-10.811514</td>\n",
       "      <td>0.361197</td>\n",
       "      <td>-0.167786</td>\n",
       "      <td>10.638629</td>\n",
       "      <td>-3.670868</td>\n",
       "    </tr>\n",
       "    <tr>\n",
       "      <th>9</th>\n",
       "      <td>-0.363633</td>\n",
       "      <td>5.403861</td>\n",
       "      <td>4.027242</td>\n",
       "      <td>-4.292000</td>\n",
       "      <td>-10.811514</td>\n",
       "      <td>0.361197</td>\n",
       "      <td>-0.167786</td>\n",
       "      <td>10.638629</td>\n",
       "    </tr>\n",
       "  </tbody>\n",
       "</table>\n",
       "</div>"
      ],
      "text/plain": [
       "          A         B          C  C_lagged_1  C_lagged_2  C_lagged_3  \\\n",
       "5  1.328873 -0.699893  -0.167786   10.638629   -3.670868   -5.114581   \n",
       "6 -0.492661 -1.550131   0.361197   -0.167786   10.638629   -3.670868   \n",
       "7 -0.761052 -3.156621 -10.811514    0.361197   -0.167786   10.638629   \n",
       "8  0.256666 -7.127921  -4.292000  -10.811514    0.361197   -0.167786   \n",
       "9 -0.363633  5.403861   4.027242   -4.292000  -10.811514    0.361197   \n",
       "\n",
       "   C_lagged_4  C_lagged_5  \n",
       "5    2.180143    6.097732  \n",
       "6   -5.114581    2.180143  \n",
       "7   -3.670868   -5.114581  \n",
       "8   10.638629   -3.670868  \n",
       "9   -0.167786   10.638629  "
      ]
     },
     "execution_count": 3,
     "metadata": {},
     "output_type": "execute_result"
    }
   ],
   "source": [
    "new_df.head()"
   ]
  },
  {
   "cell_type": "code",
   "execution_count": 4,
   "metadata": {},
   "outputs": [],
   "source": [
    "cols = new_df.columns.tolist()\n",
    "cols.remove(\"C\")\n",
    "y = new_df[\"C\"]\n",
    "X = new_df[cols]\n",
    "X_train, X_test, y_train, y_test = tsp.timeseries_train_test_split(X, y, position=0.5)"
   ]
  },
  {
   "cell_type": "code",
   "execution_count": 10,
   "metadata": {},
   "outputs": [
    {
     "data": {
      "text/plain": [
       "200.18881490446674"
      ]
     },
     "execution_count": 10,
     "metadata": {},
     "output_type": "execute_result"
    }
   ],
   "source": [
    "from sklearn.linear_model import LinearRegression\n",
    "from sklearn.metrics import mean_squared_error\n",
    "\n",
    "model = LinearRegression()\n",
    "model.fit(X_train, y_train)\n",
    "y_pred = model.predict(X_test)\n",
    "mean_squared_error(y_test, y_pred)"
   ]
  },
  {
   "cell_type": "code",
   "execution_count": null,
   "metadata": {},
   "outputs": [],
   "source": []
  }
 ],
 "metadata": {
  "kernelspec": {
   "display_name": "Python 3",
   "language": "python",
   "name": "python3"
  },
  "language_info": {
   "codemirror_mode": {
    "name": "ipython",
    "version": 3
   },
   "file_extension": ".py",
   "mimetype": "text/x-python",
   "name": "python",
   "nbconvert_exporter": "python",
   "pygments_lexer": "ipython3",
   "version": "3.9.5"
  }
 },
 "nbformat": 4,
 "nbformat_minor": 2
}
